{
 "cells": [
  {
   "cell_type": "code",
   "execution_count": 17,
   "id": "ffc941be-fa19-4738-9dfc-0942013e123a",
   "metadata": {},
   "outputs": [],
   "source": [
    "#Q1->What is an Exception in python ? write the difference between Exceptions and syntax errors?\n",
    "\n",
    "# Answer->\n",
    "\n",
    "# In Python, an exception is an error that occurs during the execution of a program. When an exception is raised,\n",
    "# it means that something unexpected happened that prevented the program from continuing to execute normally.\n",
    "\n",
    "# Exceptions can be raised for a variety of reasons, such as attempting to divide by zero, accessing an index that\n",
    "# is out of range, or trying to open a file that does not exist. Exceptions are represented by objects in Python, \n",
    "# and each type of exception corresponds to a different class of objects.\n",
    "\n",
    "# Syntax errors, on the other hand, occur when there is a problem with the syntax of the Python code. \n",
    "# Syntax errors are detected by the Python interpreter before the program is executed, and they prevent \n",
    "# the program from running at all. Common examples of syntax errors include missing parentheses or quotation marks, \n",
    "# using undefined variables, or misspelling keywords."
   ]
  },
  {
   "cell_type": "code",
   "execution_count": null,
   "id": "8216130b-67b7-42c2-b8c3-6f4024d42399",
   "metadata": {},
   "outputs": [],
   "source": [
    "#Q2->What happens when an exception is not handled ?Explain with an example.\n",
    " \n",
    "#Answer->\n",
    "\n",
    "# When an exception is not handled, it will propagate up the call stack until it reaches the top level of the program, \n",
    "# and then the program will terminate. This means that any code that was supposed to execute after the point where the \n",
    "# exception was raised will not be executed.\n",
    "\n",
    "def divide(x, y):\n",
    "    result = x / y\n",
    "    return result\n",
    "\n",
    "a = 10\n",
    "b = 0\n",
    "\n",
    "result = divide(a, b) # it gives an error \n",
    "# after that program will not run\n",
    "\n",
    "print(\"Result:\", result)\n",
    "print(\"Done.\")\n"
   ]
  },
  {
   "cell_type": "code",
   "execution_count": 15,
   "id": "e9f42c4a-ab70-464c-9e37-31fe8ceabb33",
   "metadata": {},
   "outputs": [],
   "source": [
    "#Q3->Which python statements are used to catch and exceptions? Explain with an example .\n",
    "\n",
    "# Answer->\n",
    "\n",
    "# In Python, you can handle exceptions using try-except blocks. The try block contains the code that might raise an \n",
    "# exception, and the except block is used to handle the exception.\n",
    "\n",
    "import logging\n",
    "logging.basicConfig(filename=\"exception.log\",filemode='w', level=logging.DEBUG, format='%(asctime)s %(message)s')\n",
    "logging.info(\"This is the Question 3\")\n",
    "try:\n",
    "    y = 10 / 0\n",
    "    logging.info(\"Result:\", y)\n",
    "except ZeroDivisionError:\n",
    "    logging.error(\"Invalid number\")\n",
    "finally:\n",
    "    logging.info(\"you can run programe for another value of y\")"
   ]
  },
  {
   "cell_type": "code",
   "execution_count": 18,
   "id": "77d0a388-2cfb-402d-a946-eeec7b3f4ee2",
   "metadata": {},
   "outputs": [],
   "source": [
    "#Q-4>Explain with an example:\n",
    "\n",
    "# a-> try and else\n",
    "# b-> finally\n",
    "# c-> raise\n",
    "\n",
    "# Answer->\n",
    "import logging\n",
    "logging.basicConfig(filename=\"exception.log\",filemode='a', level=logging.DEBUG, format='%(asctime)s %(message)s')\n",
    "logging.info(\" this question 4\")\n",
    "try:\n",
    "    x = 5/0  \n",
    "except ZeroDivisionError:\n",
    "    logging.error(\"Division by zero not allowed\")\n",
    "else:\n",
    "    logging.error(\"The result is:\", x)\n",
    "finally:\n",
    "    logging.error(\"This code is executed regardless of whether an exception was raised or not.\")"
   ]
  },
  {
   "cell_type": "code",
   "execution_count": 19,
   "id": "689acfc6-e85f-46f4-a25e-d80b5197d87c",
   "metadata": {},
   "outputs": [
    {
     "ename": "ValueError",
     "evalue": "Temprature in kelive scale can not be negative",
     "output_type": "error",
     "traceback": [
      "\u001b[0;31m---------------------------------------------------------------------------\u001b[0m",
      "\u001b[0;31mValueError\u001b[0m                                Traceback (most recent call last)",
      "Cell \u001b[0;32mIn[19], line 7\u001b[0m\n\u001b[1;32m      5\u001b[0m temprature_in_kelvin \u001b[38;5;241m=\u001b[39m \u001b[38;5;241m-\u001b[39m\u001b[38;5;241m1\u001b[39m\n\u001b[1;32m      6\u001b[0m \u001b[38;5;28;01mif\u001b[39;00m temprature_in_kelvin \u001b[38;5;241m<\u001b[39m\u001b[38;5;241m0\u001b[39m:\n\u001b[0;32m----> 7\u001b[0m     \u001b[38;5;28;01mraise\u001b[39;00m \u001b[38;5;167;01mValueError\u001b[39;00m(\u001b[38;5;124m\"\u001b[39m\u001b[38;5;124mTemprature in kelive scale can not be negative\u001b[39m\u001b[38;5;124m\"\u001b[39m)\n\u001b[1;32m      8\u001b[0m \u001b[38;5;28;01melse\u001b[39;00m:\n\u001b[1;32m      9\u001b[0m     logging\u001b[38;5;241m.\u001b[39minfo(\u001b[38;5;124mf\u001b[39m\u001b[38;5;124m\"\u001b[39m\u001b[38;5;124mTemprature in your area is \u001b[39m\u001b[38;5;132;01m{\u001b[39;00mtemprature_in_kelvin\u001b[38;5;132;01m}\u001b[39;00m\u001b[38;5;124m kelvin\u001b[39m\u001b[38;5;124m\"\u001b[39m)\n",
      "\u001b[0;31mValueError\u001b[0m: Temprature in kelive scale can not be negative"
     ]
    }
   ],
   "source": [
    "#example of raise condition\n",
    "\n",
    "import logging\n",
    "logging.basicConfig(filename=\"exception.log\",filemode='w', level=logging.DEBUG, format='%(asctime)s %(message)s')\n",
    "temprature_in_kelvin = -1\n",
    "if temprature_in_kelvin <0:\n",
    "    raise ValueError(\"Temprature in kelive scale can not be negative\")\n",
    "else:\n",
    "    logging.info(f\"Temprature in your area is {temprature_in_kelvin} kelvin\")"
   ]
  },
  {
   "cell_type": "code",
   "execution_count": 20,
   "id": "59bbf4b3-b777-413a-a87c-006a1dd84172",
   "metadata": {},
   "outputs": [],
   "source": [
    "#Q5->what are custom exception in python ? why do we need custom Exceptions?\n",
    "# explain with example.\n",
    "\n",
    "# Answer->\n",
    "\n",
    "# In Python, custom exceptions are user-defined exceptions that inherit from the built-in Exception class or one of its subclasses. \n",
    "# They allow developers to define their own error conditions that are specific to their application or module.\n",
    "\n",
    "# We need custom exceptions because built-in exceptions may not always capture the specific error conditions of our application.\n",
    "\n",
    "import logging\n",
    "logging.basicConfig( filename=\"exception.log\",filemode='w',level=logging.ERROR,format='%(asctime)s %(message)s')\n",
    "class NonPracticle_ConditionError(Exception):\n",
    "    def __init__(self,message=\"The efficency of any machine can not be 100 percent\"):\n",
    "        self.message = message\n",
    "        super().__init__(self.message)\n",
    "def validate_efficency(n):\n",
    "    if n == 100:\n",
    "        raise NonPracticle_ConditionError()\n",
    "    return\n",
    "\n",
    "try:\n",
    "    engine = validate_efficency(100)\n",
    "except NonPracticle_ConditionError as e:\n",
    "    logging.error(e.message)\n"
   ]
  },
  {
   "cell_type": "code",
   "execution_count": 21,
   "id": "b6789033-12bd-4208-91bd-fbb78b4e868d",
   "metadata": {},
   "outputs": [],
   "source": [
    "#Q6->create a custom exceptons class in python , use this class to handle an exception.\n",
    "\n",
    "#Answeer->\n",
    "\n",
    "import logging\n",
    "logging.basicConfig(filename=\"exception.log\",filemode='w', level=logging.DEBUG, format='%(asctime)s %(message)s')\n",
    "logging.info(\"This is question 6\")\n",
    "class NegativeNumberError(Exception):\n",
    "    def __init__(self, message=\"withdrawal amount can't be negative\"):\n",
    "        self.message = message\n",
    "        super().__init__(self.message)\n",
    "\n",
    "def amount(number):\n",
    "    if number < 0:\n",
    "        raise NegativeNumberError()\n",
    "    return\n",
    "\n",
    "try:\n",
    "    cash = amount(-4)\n",
    "except NegativeNumberError as e:\n",
    "    logging.error(e.message)\n"
   ]
  },
  {
   "cell_type": "code",
   "execution_count": null,
   "id": "af909bab-e7cc-4c07-b028-2f20583bfb7c",
   "metadata": {},
   "outputs": [],
   "source": []
  }
 ],
 "metadata": {
  "kernelspec": {
   "display_name": "Python 3 (ipykernel)",
   "language": "python",
   "name": "python3"
  },
  "language_info": {
   "codemirror_mode": {
    "name": "ipython",
    "version": 3
   },
   "file_extension": ".py",
   "mimetype": "text/x-python",
   "name": "python",
   "nbconvert_exporter": "python",
   "pygments_lexer": "ipython3",
   "version": "3.10.8"
  }
 },
 "nbformat": 4,
 "nbformat_minor": 5
}
